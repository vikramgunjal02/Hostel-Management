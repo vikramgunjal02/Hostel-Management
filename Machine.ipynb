{
  "nbformat": 4,
  "nbformat_minor": 0,
  "metadata": {
    "colab": {
      "name": "Machine.ipynb",
      "provenance": [],
      "mount_file_id": "16KBi6Fb6k1x5_HNr1Z_WqDbaoL42T90W",
      "authorship_tag": "ABX9TyN8F5bCI8auIOUYFT8C2JIo",
      "include_colab_link": true
    },
    "kernelspec": {
      "name": "python3",
      "display_name": "Python 3"
    }
  },
  "cells": [
    {
      "cell_type": "markdown",
      "metadata": {
        "id": "view-in-github",
        "colab_type": "text"
      },
      "source": [
        "<a href=\"https://colab.research.google.com/github/vikramgunjal02/Hostel-Management/blob/master/Machine.ipynb\" target=\"_parent\"><img src=\"https://colab.research.google.com/assets/colab-badge.svg\" alt=\"Open In Colab\"/></a>"
      ]
    },
    {
      "cell_type": "code",
      "metadata": {
        "id": "NEMDn4uZrdJD",
        "colab_type": "code",
        "colab": {
          "base_uri": "https://localhost:8080/",
          "height": 255
        },
        "outputId": "649c94c4-3e35-4c10-c14e-103bdd22c506"
      },
      "source": [
        "import pandas as pd\n",
        "df=pd.read_csv('/Bank_Personal_Loan_Modelling.csv')\n",
        "print(df)"
      ],
      "execution_count": 2,
      "outputs": [
        {
          "output_type": "stream",
          "text": [
            "        ID  Age  Experience  ...  CD Account  Online  CreditCard\n",
            "0        1   25           1  ...           0       0           0\n",
            "1        2   45          19  ...           0       0           0\n",
            "2        3   39          15  ...           0       0           0\n",
            "3        4   35           9  ...           0       0           0\n",
            "4        5   35           8  ...           0       0           1\n",
            "...    ...  ...         ...  ...         ...     ...         ...\n",
            "4995  4996   29           3  ...           0       1           0\n",
            "4996  4997   30           4  ...           0       1           0\n",
            "4997  4998   63          39  ...           0       0           0\n",
            "4998  4999   65          40  ...           0       1           0\n",
            "4999  5000   28           4  ...           0       1           1\n",
            "\n",
            "[5000 rows x 14 columns]\n"
          ],
          "name": "stdout"
        }
      ]
    }
  ]
}